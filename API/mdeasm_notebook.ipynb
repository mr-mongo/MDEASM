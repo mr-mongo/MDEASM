{
 "cells": [
  {
   "attachments": {},
   "cell_type": "markdown",
   "metadata": {},
   "source": [
    "#### Import the mdeasm library (easiest if this notebook is running out of the same directory as the mdeasm.py file) and set the details for your workspace, tenant, subscription, and service principal."
   ]
  },
  {
   "cell_type": "code",
   "execution_count": null,
   "metadata": {},
   "outputs": [],
   "source": [
    "import mdeasm\n",
    "\n",
    "workspace_name = ''\n",
    "tenant_id = ''\n",
    "subscription_id = ''\n",
    "client_id = ''\n",
    "client_secret = ''\n",
    "\n",
    "my_easm_workspace = mdeasm.Workspaces(workspace_name=workspace_name, tenant_id=tenant_id, subscription_id=subscription_id, client_id=client_id, client_secret=client_secret)"
   ]
  },
  {
   "attachments": {},
   "cell_type": "markdown",
   "metadata": {},
   "source": [
    "#### Interacting with an already-created workspace and retrieving its details."
   ]
  },
  {
   "cell_type": "code",
   "execution_count": null,
   "metadata": {},
   "outputs": [],
   "source": [
    "print(\"current default workspace:\", my_easm_workspace._default_workspace_name)\n",
    "\n",
    "print(\"\\ncurrent workspace details\\n\", my_easm_workspace.get_workspaces(workspace_name=workspace_name))\n",
    "\n",
    "print(\"\\ncurrent workspace disco group details\\n\", my_easm_workspace.get_discovery_groups())"
   ]
  },
  {
   "attachments": {},
   "cell_type": "markdown",
   "metadata": {},
   "source": [
    "#### Creating a new workspace and submitting custom seeds for initial discovery."
   ]
  },
  {
   "cell_type": "code",
   "execution_count": 3,
   "metadata": {},
   "outputs": [],
   "source": [
    "new_workspace_name = 'JustSomeEmptyWoodenHorses'\n",
    "resource_group_name = ''\n",
    "#hint: support EASM resource locations can be found in my_easm_workspace._locations\n",
    "easm_region = ''\n",
    "\n",
    "print(\"\\ncreate a new workspace and show its details\\n\", my_easm_workspace.create_workspace(workspace_name=new_workspace_name, resource_group_name=resource_group_name, location=easm_region))\n",
    "\n",
    "print(\"\\nnew default workspace\\n\", my_easm_workspace._default_workspace_name)\n",
    "\n",
    "custom_discovery_template = {\n",
    "                'name':new_workspace_name,\n",
    "                'seeds':{\n",
    "                    'domain':['trojanhorses.biz'],\n",
    "                    #'ipBlock':['10.10.0.0/16', '192.168.123.234/32'],\n",
    "                    #'host':['www.mydomain.com', 'mail.mydomain.com'],\n",
    "                    #'contact':['admin@mydomain.com', 'user@mydomain.com'],\n",
    "                    #'as':['ASN1234', '987654'],\n",
    "                    #'attribute':['WhoisOrganization:MY ORG NAME 1', 'WhoisOrganization:MY ORG NAME 2']\n",
    "                }\n",
    "            }\n",
    "\n",
    "print(\"\\nSubmit a custom discovery template and show its initial run details\\n\", my_easm_workspace.create_discovery_group(disco_custom=custom_discovery_template))"
   ]
  },
  {
   "attachments": {},
   "cell_type": "markdown",
   "metadata": {},
   "source": [
    "#### Creating a new workspace and searching for pre-built discovery templates."
   ]
  },
  {
   "cell_type": "code",
   "execution_count": 2,
   "metadata": {},
   "outputs": [],
   "source": [
    "new_workspace_name = 'RiskIQ'\n",
    "\n",
    "print(\"\\ncreate a new workspace and show its details\\n\", my_easm_workspace.create_workspace(workspace_name=new_workspace_name, resource_group_name=resource_group_name, location=easm_region))\n",
    "\n",
    "print(\"\\nnew default workspace\\n\", my_easm_workspace._default_workspace_name)\n",
    "\n",
    "# it's best to be generic with this lookup value\n",
    "# the UI will generally be a better option for this step\n",
    "print(\"\\nfound pre-built discovery templates\\n\")\n",
    "my_easm_workspace.get_discovery_templates(org_name='RiskIQ')\n",
    "\n",
    "# we can display details of the pre-built template using the the template id number\n",
    "my_easm_workspace.get_discovery_template_by_id(template_id='88256')"
   ]
  },
  {
   "attachments": {},
   "cell_type": "markdown",
   "metadata": {},
   "source": [
    "#### Submitting a pre-built discovery template for a discovery run."
   ]
  },
  {
   "cell_type": "code",
   "execution_count": 3,
   "metadata": {},
   "outputs": [],
   "source": [
    "# choose a template from the results (or modify your search and try again)\n",
    "# this function requires the discovery template string to be submitted **exactly** as printed in the .get_discovery_templates() output\n",
    "my_easm_workspace.create_discovery_group(disco_template='RiskIQ, Inc---88256')"
   ]
  },
  {
   "attachments": {},
   "cell_type": "markdown",
   "metadata": {},
   "source": [
    "Switching back to the original workspace"
   ]
  },
  {
   "cell_type": "code",
   "execution_count": 2,
   "metadata": {},
   "outputs": [],
   "source": [
    "# switch the default workspace if necessary\n",
    "my_easm_workspace._default_workspace_name = workspace_name\n",
    "print(\"current default workspace:\", my_easm_workspace._default_workspace_name)"
   ]
  },
  {
   "attachments": {},
   "cell_type": "markdown",
   "metadata": {},
   "source": [
    "#### query the workspace assets\n",
    "\n",
    "refer to the MDEASM documentation (https://learn.microsoft.com/en-us/azure/external-attack-surface-management/inventory-filters) for valid query options and operators **or** run a query in MDEASM UI with browser developer tools (F12 --> Network tab) open and copy the query from the `filter` parameter\n",
    "\n",
    "e.g.:\n",
    "\n",
    "      'state in (\"candidate\", \"associatedThirdparty\") AND kind !in (\"as\", \"contact\")'\n",
    "\n",
    "      'createdAt between (\"2022-12-25T07:00:00.000Z\", \"2023-01-01T07:00:00.000Z\")'\n",
    "      \n",
    "      'state = \"confirmed\" AND webComponentName !empty'"
   ]
  },
  {
   "attachments": {},
   "cell_type": "markdown",
   "metadata": {},
   "source": [
    "depending on the query, the size of the workspace, whether you choose to retrieve every asset identified by your query (get_all=True), and even your internet speed...this may take some time"
   ]
  },
  {
   "cell_type": "code",
   "execution_count": 5,
   "metadata": {},
   "outputs": [],
   "source": [
    "# a query to return all domains in 'Approved' state\n",
    "domain_query = 'state = \"confirmed\" AND kind = \"domain\"'\n",
    "my_easm_workspace.get_workspace_assets(query_filter=domain_query, asset_list_name='all_domains', get_all=True, max_page_size=50)"
   ]
  },
  {
   "cell_type": "code",
   "execution_count": 4,
   "metadata": {},
   "outputs": [],
   "source": [
    "# a query to return all 'Approved' assets with any webComponent values\n",
    "web_component_query = 'state = \"confirmed\" AND webComponentName !empty'\n",
    "my_easm_workspace.get_workspace_assets(query_filter=web_component_query, asset_list_name='all_web_components', get_all=True, max_page_size=100)"
   ]
  },
  {
   "cell_type": "code",
   "execution_count": 3,
   "metadata": {},
   "outputs": [],
   "source": [
    "# a query to return all 'Approved' wildard assets\n",
    "wildcard_query = 'state = \"confirmed\" AND wildcard = \"true\"'\n",
    "my_easm_workspace.get_workspace_assets(query_filter=wildcard_query)"
   ]
  },
  {
   "attachments": {},
   "cell_type": "markdown",
   "metadata": {},
   "source": [
    "a query to return EVERY asset in a workspace (i.e.: all asset states)"
   ]
  },
  {
   "cell_type": "code",
   "execution_count": 2,
   "metadata": {},
   "outputs": [],
   "source": [
    "# the 'max_page_count' can be used to limit this (and any other get_workspace_assets() call)\n",
    "# to retrieve the first 500 assets, set max_page_size=100 and max_page_count=5\n",
    "# to retrieve the first 175, set max_page_size=25 and max_page_count=7\n",
    "all_asset_query = 'state !empty'\n",
    "my_easm_workspace.get_workspace_assets(query_filter=all_asset_query, asset_list_name='all_assets', max_page_size=100, max_page_count=5)"
   ]
  },
  {
   "attachments": {},
   "cell_type": "markdown",
   "metadata": {},
   "source": [
    "#### Exploring some of the details available in the returned assets using the custom and default named `AssetLists`\n",
    "\n",
    "assets are accessible within the `Workspace.AssetList.assets` list\n",
    "\n",
    "if the asset_list_name argument is passed in `get_workspace_assets()`, then you will use that name\n",
    "\n",
    "if the asset_list_name argument is not passed in `get_workspace_assets()`, such as the wildcard=\"true\" query above, then you will use the default of 'assetList'"
   ]
  },
  {
   "cell_type": "code",
   "execution_count": 8,
   "metadata": {},
   "outputs": [],
   "source": [
    "# access asset attributes via asset.<attribute_name>\n",
    "print ('assetList has this many assets:', len(my_easm_workspace.assetList.assets))\n",
    "for asset in my_easm_workspace.assetList.assets:\n",
    "    print(\"\\tasset name:\", asset.name)\n",
    "    print(\"\\tasset wildcard:\", asset.wildcard)\n",
    "    print(\"\\tasset firstSeen:\", asset.firstSeen)\n",
    "    print(\"\\tasset lastSeen:\", asset.lastSeen)\n",
    "    break"
   ]
  },
  {
   "cell_type": "code",
   "execution_count": 9,
   "metadata": {},
   "outputs": [],
   "source": [
    "# some attributes are common and present in every asset types\n",
    "print('all_domains has this many assets:', len(my_easm_workspace.all_domains.assets))\n",
    "for asset in my_easm_workspace.all_domains.assets:\n",
    "    print(\"\\tasset id:\", asset.id)\n",
    "    print(\"\\tasset uuid:\", asset.uuid)\n",
    "    print(\"\\tasset nameServers:\", asset.nameServers)\n",
    "    break"
   ]
  },
  {
   "cell_type": "code",
   "execution_count": 10,
   "metadata": {},
   "outputs": [],
   "source": [
    "# some attributes are only present in certain asset types\n",
    "# if you attempt to access them when they are not present, python will throw an AttributeError\n",
    "# hasattr() is one way to check whether an asset has any particular attribute before attempting to access or print it\n",
    "print('all_web_components has this many assets:', len(my_easm_workspace.all_web_components.assets))\n",
    "for asset in my_easm_workspace.all_web_components.assets:\n",
    "    if hasattr(asset, 'attributes'):\n",
    "        print(\"\\tasset attributes:\", asset.attributes)\n",
    "    if hasattr(asset, 'cnames'):\n",
    "        print(\"\\tasset cnames:\", asset.cnames)\n",
    "    if hasattr(asset, 'headers'):\n",
    "        print(\"\\tasset headers:\", asset.headers)\n",
    "    if hasattr(asset, 'webComponents'):\n",
    "        print(\"\\tasset webComponents:\", asset.webComponents)\n",
    "    break"
   ]
  },
  {
   "cell_type": "code",
   "execution_count": 13,
   "metadata": {},
   "outputs": [],
   "source": [
    "# individual assets can be accessed by their location (index value) within the list\n",
    "# each asset has .to_dict() and .pretty() methods to format/print the entire object\n",
    "print('all_assets has this many assets:', len(my_easm_workspace.all_assets.assets))\n",
    "list_index = 0\n",
    "for index,asset in enumerate(my_easm_workspace.all_assets.assets):\n",
    "    if asset.kind == 'sslCert':\n",
    "        list_index = index\n",
    "        break\n",
    "print(f\"\\tthis is an sslCert asset at index position {list_index}\\n\",'\\t',my_easm_workspace.all_assets.assets[list_index].to_dict())"
   ]
  },
  {
   "attachments": {},
   "cell_type": "markdown",
   "metadata": {},
   "source": [
    "we also have a method to get a single workspace asset: `get_workspace_asset_by_id()`\n",
    "\n",
    "this requires that you already know some details about the asset you want to retrieve\n",
    "\n",
    "there are three different ways to pull a single asset:\n",
    "\n",
    "      asset.id\n",
    "\n",
    "      asset.uuid\n",
    "\n",
    "      base64-encoded asset.id"
   ]
  },
  {
   "cell_type": "code",
   "execution_count": 14,
   "metadata": {},
   "outputs": [],
   "source": [
    "import base64\n",
    "asset = my_easm_workspace.all_domains.assets[0]\n",
    "\n",
    "asset_id = asset.id\n",
    "asset_uuid = asset.uuid\n",
    "b64_asset_id = base64.b64encode(asset.id.encode()).decode()\n",
    "\n",
    "print('the asset.id value looks like:', asset_id)\n",
    "print('the asset.uuid value looks like:', asset_uuid)\n",
    "print('the base64-encoded asset.id value looks like:', b64_asset_id)\n",
    "\n",
    "#retrieve that asset by its asset.id\n",
    "my_easm_workspace.get_workspace_asset_by_id(asset_id=asset_id)\n",
    "\n",
    "#retrieve that asset by its asset.uuid\n",
    "my_easm_workspace.get_workspace_asset_by_id(asset_id=asset_uuid)\n",
    "\n",
    "#retrieve that asset by its base64-encoded asset.id\n",
    "my_easm_workspace.get_workspace_asset_by_id(asset_id=b64_asset_id)"
   ]
  },
  {
   "attachments": {},
   "cell_type": "markdown",
   "metadata": {},
   "source": [
    "we just retrieved the exact same asset three different ways\n",
    "\n",
    "that asset's details can be examined using the same value we used to retrieve it"
   ]
  },
  {
   "cell_type": "code",
   "execution_count": 14,
   "metadata": {},
   "outputs": [],
   "source": [
    "# the getattr() function can be used to retrieve object attributes when the attribute name would break the normal \"object_name.attribute_name\" method\n",
    "# e.g.: all of these will throw exceptions: 'my_easm_workspace.domain$$example.com', 'my_easm_workspace.01234567-89ab-cdef-0123-456789abcdef', ''my_easm_workspace.ZXhhbXBsZS5jb20=\n",
    "# using the asset.id\n",
    "print('retrieve the asset details using the asset.id:', asset_id)\n",
    "print(getattr(my_easm_workspace, asset_id).pretty())"
   ]
  },
  {
   "cell_type": "code",
   "execution_count": 16,
   "metadata": {},
   "outputs": [],
   "source": [
    "# using the asset.uuid\n",
    "print('retrieve the asset details using the asset.uuid:', asset_uuid)\n",
    "print(getattr(my_easm_workspace, asset_uuid).pretty())"
   ]
  },
  {
   "cell_type": "code",
   "execution_count": 17,
   "metadata": {},
   "outputs": [],
   "source": [
    "# using the base64-encoded asset.id\n",
    "print('retrieve the asset details using the base64-encoded asset.id:', b64_asset_id)\n",
    "print(getattr(my_easm_workspace, b64_asset_id).pretty())"
   ]
  },
  {
   "attachments": {},
   "cell_type": "markdown",
   "metadata": {},
   "source": [
    "#### Diving deeper into some interesting asset datasets"
   ]
  },
  {
   "attachments": {},
   "cell_type": "markdown",
   "metadata": {},
   "source": [
    "the tlsVersions available in ipAddress assets are not accessible via the UI, so we can query and extract those details through the API"
   ]
  },
  {
   "cell_type": "code",
   "execution_count": 45,
   "metadata": {},
   "outputs": [],
   "source": [
    "for asset in my_easm_workspace.all_assets.assets:\n",
    "    if hasattr(asset, 'sslServerConfig'):\n",
    "        print('asset name:', asset.name, '\\nTLS version and Cipher Suite', [(','.join(sslconf['tlsVersions']), ','.join(sslconf['cipherSuites'])) for sslconf in asset.sslServerConfig if sslconf['cipherSuites'] and sslconf['tlsVersions']], '\\n')"
   ]
  },
  {
   "attachments": {},
   "cell_type": "markdown",
   "metadata": {},
   "source": [
    "webCompponents are queryable and accessible through the UI but if you dont know the exact value to search for, the API is a good option to identify available/queryable values"
   ]
  },
  {
   "cell_type": "code",
   "execution_count": 41,
   "metadata": {},
   "outputs": [],
   "source": [
    "all_web_components_dict = {}\n",
    "for asset in my_easm_workspace.all_web_components.assets:\n",
    "    if hasattr(asset, 'webComponents'):\n",
    "        for wc in asset.webComponents:\n",
    "            try:\n",
    "                all_web_components_dict[(wc.get('name'), wc.get('version'))] += 1\n",
    "            except KeyError:\n",
    "                all_web_components_dict[(wc.get('name'), wc.get('version'))] = 1\n",
    "for key,val in all_web_components_dict.items():\n",
    "    print(f\"Web Component Name and Version: {key}\", f\"  Count: {val}\")"
   ]
  },
  {
   "attachments": {},
   "cell_type": "markdown",
   "metadata": {},
   "source": [
    "we can easily find any simple string in all URLs within the workspace\n",
    "\n",
    "try the below example using 'api' instead of 'rss'"
   ]
  },
  {
   "cell_type": "code",
   "execution_count": 5,
   "metadata": {},
   "outputs": [],
   "source": [
    "for asset in my_easm_workspace.all_assets.assets:\n",
    "    if hasattr(asset, 'url') and 'rss' in asset.url:\n",
    "        print(asset.url)"
   ]
  },
  {
   "attachments": {},
   "cell_type": "markdown",
   "metadata": {},
   "source": [
    "#### Creating and querying facet filters\n",
    "\n",
    "~~we can turn the above examples into facet filters and then query/search them for workspace details~~\n",
    "\n",
    "~~create a facet filter for all webComponents in an AssetList~~\n",
    "\n",
    "~~this places the webComponents['name'] and webComponents['version'] values into the webComponents_filter~~\n",
    "\n",
    "~~the 'attribute_value' value will always be placed into key[0] and any additional key-word arguments passed to the function (such as version='version') will be placed into subsequent key[N] positions (key[1], key[2], key[3], etc)~~"
   ]
  },
  {
   "attachments": {},
   "cell_type": "markdown",
   "metadata": {},
   "source": [
    "mdeasm.py now by default automatically create facet filters for every asset detail retreived through the get_workspace_assets() and get_workspace_asset_by_id() functions. (this can be disabled with `auto_create_facet_filters=False`)\n",
    "\n",
    "facet filters can be accessed directly through the `<mdeasm.Workspaces object>.filters.<filter_name>` attribute; e.g.:\n",
    "\n",
    "> my_easm_workspace.filters.cveId\n",
    "\n",
    "> my_easm_workspace.filters.subjectCommonNames\n",
    "\n",
    "> my_easm_workspace.filters.headers\n",
    "\n",
    "as such, the `create_facet_filter()` example below is unnecessary, but is kept in the notebook here as an example of the function"
   ]
  },
  {
   "cell_type": "code",
   "execution_count": 6,
   "metadata": {},
   "outputs": [],
   "source": [
    "my_easm_workspace.create_facet_filter(asset_list='all_web_components', attribute_name='webComponents')"
   ]
  },
  {
   "cell_type": "code",
   "execution_count": 7,
   "metadata": {},
   "outputs": [],
   "source": [
    "# a search against the webComponents can will perform a case-insensitive (default) search against every item in the filter\n",
    "# we can perform this search across all facet filters by omitting the 'facet_filter' argument, or any individual filter by specifying it with 'facet_filter='\n",
    "print('facet filter search for \"azure\" in the \"webComponents\" filter, using \"contains\" and sort \"descending\"')\n",
    "my_easm_workspace.query_facet_filter(search='azure', facet_filter='webComponents', search_type='contains', sort_order='descending')"
   ]
  },
  {
   "cell_type": "code",
   "execution_count": 8,
   "metadata": {},
   "outputs": [],
   "source": [
    "#another example using some different search and sort options\n",
    "print('facet filter simple search for \"ROUND\", using \"starts\" and sort \"ascending\"')\n",
    "my_easm_workspace.query_facet_filter(search='azure', facet_filter='webComponents', search_type='starts', sort_order='ascending')"
   ]
  },
  {
   "cell_type": "code",
   "execution_count": 15,
   "metadata": {},
   "outputs": [],
   "source": [
    "# the webComponents_filter is simply a dict attribute of the Workspace()\n",
    "# so if you want to perform for advanced/customized facet filter queries, you can access the facet filter directly and leverage all dict method\n",
    "print('interact with the facet filter dictionary attribute directly and leverage any dict method to iterate and/or search')\n",
    "for key,val in my_easm_workspace.filters.webComponents.items():\n",
    "    print(key)\n",
    "    print(val)\n",
    "    break"
   ]
  },
  {
   "attachments": {},
   "cell_type": "markdown",
   "metadata": {},
   "source": [
    "**create a facet filter for all TLS versions in an AssetList**\n",
    "\n",
    "this places the `sslServerConfig['tlsVersions']` and `sslServerConfig['cipherSuites']` values into the **sslServerConfig_filter**\n",
    "\n",
    "note that this is the opposite order as the example above\n",
    "\n",
    "this will allow us to use simple_search on the tlsVersion\n",
    "\n",
    "also note that we are using a different key-word argument than 'version' above"
   ]
  },
  {
   "cell_type": "code",
   "execution_count": 10,
   "metadata": {},
   "outputs": [],
   "source": [
    "my_easm_workspace.create_facet_filter(asset_list='all_assets', attribute_name='sslServerConfig')"
   ]
  },
  {
   "cell_type": "code",
   "execution_count": 13,
   "metadata": {},
   "outputs": [],
   "source": [
    "# simple search for 1.1\n",
    "print('facet filter search for \"1.1\" in \"sslServerConfig\", using \"contains\" and sort \"descending\"')\n",
    "my_easm_workspace.query_facet_filter(search='1.1', facet_filter='sslServerConfig')"
   ]
  },
  {
   "attachments": {},
   "cell_type": "markdown",
   "metadata": {},
   "source": [
    "same as stated above, this is not necessary if we are auto-creating facet filters, but still keeping this here as an example"
   ]
  },
  {
   "cell_type": "code",
   "execution_count": 14,
   "metadata": {},
   "outputs": [],
   "source": [
    "my_easm_workspace.create_facet_filter(asset_list='all_assets', attribute_name='subjectAlternativeNames')"
   ]
  },
  {
   "attachments": {},
   "cell_type": "markdown",
   "metadata": {},
   "source": [
    "the `query_facet_filter()` search leverages regex, so most character classes and token will work here"
   ]
  },
  {
   "cell_type": "code",
   "execution_count": 16,
   "metadata": {},
   "outputs": [],
   "source": [
    "print('facet filter search for \"*.\" retrieves wildcard SANs')\n",
    "my_easm_workspace.query_facet_filter(search='\\*\\.', facet_filter='subjectAlternativeNames', search_type='starts')"
   ]
  },
  {
   "cell_type": "code",
   "execution_count": 17,
   "metadata": {},
   "outputs": [],
   "source": [
    "print('\\nfacet filter search for \"[a-zA-Z0-9\\.]*\"')\n",
    "my_easm_workspace.query_facet_filter(search='[a-zA-Z0-9\\.]*', facet_filter='subjectAlternativeNames')"
   ]
  },
  {
   "attachments": {},
   "cell_type": "markdown",
   "metadata": {},
   "source": [
    "`Hands-on Excercises?`"
   ]
  },
  {
   "attachments": {},
   "cell_type": "markdown",
   "metadata": {},
   "source": [
    "*Create a new easm workspace and run a discovery using a pre-built template*"
   ]
  },
  {
   "cell_type": "code",
   "execution_count": null,
   "metadata": {},
   "outputs": [],
   "source": [
    "my_easm_workspace.create_workspace(workspace_name='', resource_group_name='', location='')\n",
    "\n",
    "my_easm_workspace.get_discovery_templates(org_name='')\n",
    "\n",
    "my_easm_workspace.get_discovery_template_by_id(template_id='')"
   ]
  },
  {
   "cell_type": "code",
   "execution_count": null,
   "metadata": {},
   "outputs": [],
   "source": [
    "my_easm_workspace.create_discovery_group(disco_template='')"
   ]
  },
  {
   "attachments": {},
   "cell_type": "markdown",
   "metadata": {},
   "source": [
    "*Query a workspace for all `Approved Domains`*"
   ]
  },
  {
   "cell_type": "code",
   "execution_count": null,
   "metadata": {},
   "outputs": [],
   "source": [
    "my_easm_workspace.get_workspace_assets()"
   ]
  },
  {
   "attachments": {},
   "cell_type": "markdown",
   "metadata": {},
   "source": [
    "*Create a facet filter for `Name Servers` and run a facet filter query*"
   ]
  },
  {
   "cell_type": "code",
   "execution_count": null,
   "metadata": {},
   "outputs": [],
   "source": [
    "my_easm_workspace.create_facet_filter()"
   ]
  },
  {
   "cell_type": "code",
   "execution_count": null,
   "metadata": {},
   "outputs": [],
   "source": [
    "my_easm_workspace.query_facet_filter()"
   ]
  }
 ],
 "metadata": {
  "kernelspec": {
   "display_name": "Python 3.9.13 64-bit",
   "language": "python",
   "name": "python3"
  },
  "language_info": {
   "codemirror_mode": {
    "name": "ipython",
    "version": 3
   },
   "file_extension": ".py",
   "mimetype": "text/x-python",
   "name": "python",
   "nbconvert_exporter": "python",
   "pygments_lexer": "ipython3",
   "version": "3.9.13"
  },
  "orig_nbformat": 4,
  "vscode": {
   "interpreter": {
    "hash": "61115a6e994573f4354e6e30474d557c6a2a7b3a9ae3b842f72563b06f190bbd"
   }
  }
 },
 "nbformat": 4,
 "nbformat_minor": 2
}
